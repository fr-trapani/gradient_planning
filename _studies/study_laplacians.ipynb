{
 "cells": [
  {
   "cell_type": "code",
   "execution_count": 2,
   "metadata": {},
   "outputs": [],
   "source": [
    "import numpy as np\n",
    "from matplotlib import pyplot as plt\n",
    "from scipy.linalg import eig\n",
    "\n",
    "from environments.gridworlds.gridworlds_classic import *\n",
    "from environments.gridworlds.gridworlds_stocastic import *\n",
    "from plots.gridworlds.gridworld_visualizer import GridWorldVisualizer\n",
    "from agents.pgp.pgp_softmax import SoftMaxPGP\n",
    "from plots.agent_plotter import AgentPlotter\n",
    "\n",
    "np.set_printoptions(precision=2)"
   ]
  },
  {
   "cell_type": "code",
   "execution_count": 3,
   "metadata": {},
   "outputs": [
    {
     "name": "stderr",
     "output_type": "stream",
     "text": [
      "100%|██████████| 100/100 [00:00<00:00, 987.29it/s]\n"
     ]
    },
    {
     "data": {
      "image/png": "[encoded data removed]",
      "text/plain": [
       "<Figure size 640x480 with 1 Axes>"
      ]
     },
     "metadata": {},
     "output_type": "display_data"
    }
   ],
   "source": [
    "world = ErgodicWorld(nx=2, ny=2, p0=.5, init_locs=np.array([[0, 0]]))\n",
    "world.add_grid_rewards(rew_values=np.array([10]), rew_loc_start=np.array([[1,1]]))\n",
    "\n",
    "bot = SoftMaxPGP(world)\n",
    "bot.learn(n_steps=100, alpha=0.1, min_theta=None)\n",
    "\n",
    "viz = GridWorldVisualizer(world, bot)\n",
    "\n",
    "viz.plot_policy()\n",
    "plt.show()\n",
    "\n"
   ]
  },
  {
   "cell_type": "code",
   "execution_count": 4,
   "metadata": {},
   "outputs": [
    {
     "name": "stdout",
     "output_type": "stream",
     "text": [
      "P (transition matrix)\n",
      "[[0.21 0.4  0.4  0.  ]\n",
      " [0.17 0.17 0.   0.66]\n",
      " [0.17 0.   0.17 0.66]\n",
      " [0.   0.17 0.17 0.66]]\n",
      "\n",
      "P* (limiting matrix)\n",
      "[[0.07 0.16 0.16 0.62]\n",
      " [0.07 0.16 0.16 0.62]\n",
      " [0.07 0.16 0.16 0.62]\n",
      " [0.07 0.16 0.16 0.62]]\n",
      "\n",
      "L (laplacian)\n",
      "[[ 0.79 -0.4  -0.4   0.  ]\n",
      " [-0.17  0.83  0.   -0.66]\n",
      " [-0.17  0.    0.83 -0.66]\n",
      " [ 0.   -0.17 -0.17  0.34]]\n",
      "\n",
      "F (fundamental matrix)\n",
      "[[ 0.86 -0.24 -0.24  0.62]\n",
      " [-0.1   0.99  0.16 -0.04]\n",
      " [-0.1   0.16  0.99 -0.04]\n",
      " [ 0.07 -0.01 -0.01  0.95]]\n",
      "\n"
     ]
    }
   ],
   "source": [
    "I = np.eye(world.n_state)\n",
    "\n",
    "# Transition matrix\n",
    "P = bot.T\n",
    "\n",
    "# Limiting matrix\n",
    "P_star = np.linalg.matrix_power(P, 99999999999)\n",
    "\n",
    "# Laplacian\n",
    "L = I - P \n",
    "\n",
    "# Fundamental Matrix\n",
    "F = L + P_star\n",
    "\n",
    "print(\"P (transition matrix)\")\n",
    "print(P)\n",
    "print()\n",
    "\n",
    "print(\"P* (limiting matrix)\")\n",
    "print(P_star)\n",
    "print()\n",
    "\n",
    "\n",
    "print(\"L (laplacian)\")\n",
    "print(L)\n",
    "print()\n",
    "\n",
    "\n",
    "print(\"F (fundamental matrix)\")\n",
    "print(F)\n",
    "print()"
   ]
  },
  {
   "cell_type": "code",
   "execution_count": 5,
   "metadata": {},
   "outputs": [
    {
     "name": "stdout",
     "output_type": "stream",
     "text": [
      "ro = [0.07 0.16 0.16 0.62]\n",
      "ro @ P = [0.07 0.16 0.16 0.62]\n",
      "\n"
     ]
    }
   ],
   "source": [
    "s0 = np.array([1, 0, 0, 0])\n",
    "ones = np.array([1, 1, 1, 1])\n",
    "ro = P_star[0]\n",
    "\n",
    "\n",
    "print(\"ro = {}\".format(ro))\n",
    "print(\"ro @ P = {}\".format(ro @ P))\n",
    "print()"
   ]
  },
  {
   "cell_type": "code",
   "execution_count": 6,
   "metadata": {},
   "outputs": [
    {
     "name": "stdout",
     "output_type": "stream",
     "text": [
      "ro normalized = [0.1  0.24 0.24 0.94]\n",
      "\n",
      "P eigenvalues\n",
      "[-0.31+0.j  1.  +0.j  0.35+0.j  0.17+0.j]\n",
      "\n",
      "P left eigenvectors\n",
      "[[-3.16e-01  1.01e-01 -4.50e-01  7.04e-16]\n",
      " [ 4.85e-01  2.37e-01 -1.99e-01  7.07e-01]\n",
      " [ 4.85e-01  2.37e-01 -1.99e-01 -7.07e-01]\n",
      " [-6.55e-01  9.37e-01  8.48e-01 -1.11e-15]]\n",
      "\n",
      "P right eigenvectors\n",
      "[[-7.24e-01  5.00e-01 -9.48e-01  1.82e-14]\n",
      " [ 4.74e-01  5.00e-01 -1.78e-01  7.07e-01]\n",
      " [ 4.74e-01  5.00e-01 -1.78e-01 -7.07e-01]\n",
      " [-1.62e-01  5.00e-01  1.93e-01 -4.31e-15]]\n",
      "\n"
     ]
    }
   ],
   "source": [
    "Pe_val, Pe_vecY, Pe_vecX = eig(P, left=True)\n",
    "\n",
    "ro_norm = ro / np.sqrt(np.sum(ro**2))\n",
    "print(\"ro normalized = {}\".format(ro_norm))\n",
    "print()\n",
    "\n",
    "print(\"P eigenvalues\")\n",
    "print(Pe_val)\n",
    "print()\n",
    "\n",
    "print(\"P left eigenvectors\")\n",
    "print(Pe_vecY)\n",
    "print()\n",
    "\n",
    "print(\"P right eigenvectors\")\n",
    "print(Pe_vecX)\n",
    "print()"
   ]
  },
  {
   "cell_type": "code",
   "execution_count": 8,
   "metadata": {},
   "outputs": [
    {
     "name": "stdout",
     "output_type": "stream",
     "text": [
      "P eigenvalues\n",
      "[-0.31+0.j  1.  +0.j  0.35+0.j  0.17+0.j]\n",
      "\n",
      "F eigenvalues\n",
      "[1.31+0.j 0.65+0.j 1.  +0.j 0.83+0.j]\n",
      "\n",
      "P right eigenvectors\n",
      "[[-7.24e-01  5.00e-01 -9.48e-01  1.82e-14]\n",
      " [ 4.74e-01  5.00e-01 -1.78e-01  7.07e-01]\n",
      " [ 4.74e-01  5.00e-01 -1.78e-01 -7.07e-01]\n",
      " [-1.62e-01  5.00e-01  1.93e-01 -4.31e-15]]\n",
      "\n",
      "F right eigenvectors\n",
      "[[-7.24e-01  9.48e-01  5.00e-01  1.99e-14]\n",
      " [ 4.74e-01  1.78e-01  5.00e-01  7.07e-01]\n",
      " [ 4.74e-01  1.78e-01  5.00e-01 -7.07e-01]\n",
      " [-1.62e-01 -1.93e-01  5.00e-01 -3.49e-15]]\n",
      "\n"
     ]
    }
   ],
   "source": [
    "PPe_val, PPe_vecY, PPe_vecX = eig(P - P_star, left=True)\n",
    "Fe_val, Fe_vecY, Fe_vecX = eig(F, left=True)\n",
    "\n",
    "print(\"P eigenvalues\")\n",
    "print(Pe_val)\n",
    "print()\n",
    "\n",
    "print(\"F eigenvalues\")\n",
    "print(Fe_val)\n",
    "print()\n",
    "\n",
    "\n",
    "print(\"P right eigenvectors\")\n",
    "print(Pe_vecX)\n",
    "print()\n",
    "\n",
    "print(\"F right eigenvectors\")\n",
    "print(Fe_vecX)\n",
    "print()\n"
   ]
  },
  {
   "cell_type": "code",
   "execution_count": 24,
   "metadata": {},
   "outputs": [
    {
     "name": "stdout",
     "output_type": "stream",
     "text": [
      "[[0.21 0.4  0.4  0.  ]\n",
      " [0.17 0.17 0.   0.66]\n",
      " [0.17 0.   0.17 0.66]\n",
      " [0.   0.17 0.17 0.66]]\n",
      "\n",
      "[[0.33 0.33 0.33 0.  ]\n",
      " [0.33 0.33 0.   0.33]\n",
      " [0.33 0.   0.33 0.33]\n",
      " [0.   0.33 0.33 0.33]]\n"
     ]
    }
   ],
   "source": [
    "D = np.eye(4) * 3\n",
    "\n",
    "W = P > 0\n",
    "\n",
    "print(P)\n",
    "print()\n",
    "print(np.linalg.inv(D) @ W)"
   ]
  }
 ],
 "metadata": {
  "kernelspec": {
   "display_name": "rl",
   "language": "python",
   "name": "python3"
  },
  "language_info": {
   "codemirror_mode": {
    "name": "ipython",
    "version": 3
   },
   "file_extension": ".py",
   "mimetype": "text/x-python",
   "name": "python",
   "nbconvert_exporter": "python",
   "pygments_lexer": "ipython3",
   "version": "3.11.5"
  },
  "orig_nbformat": 4
 },
 "nbformat": 4,
 "nbformat_minor": 2
}
