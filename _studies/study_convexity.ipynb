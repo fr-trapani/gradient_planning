{
 "cells": [
  {
   "cell_type": "code",
   "execution_count": 1,
   "metadata": {},
   "outputs": [],
   "source": [
    "import numpy as np\n",
    "from matplotlib import pyplot as plt\n",
    "from matplotlib import cm\n",
    "\n",
    "%matplotlib qt\n",
    "plt.close('all')"
   ]
  },
  {
   "cell_type": "code",
   "execution_count": 2,
   "metadata": {},
   "outputs": [],
   "source": [
    "# Function to plot the landscape of the cost function\n",
    "\n",
    "def plotCostSpace(cost_function, param_inteval=[0,1], param_name=\"π\", ax=None, cmap=cm.coolwarm):\n",
    "\n",
    "    if ax is None:\n",
    "        _, ax = plt.subplots(subplot_kw=dict(projection='3d'))\n",
    "\n",
    "    p_range = np.linspace(param_inteval[0], param_inteval[1], 100)\n",
    "    x, y = np.meshgrid(p_range, p_range)\n",
    "    p = np.stack([x, y])\n",
    "    c = cost_function(p)\n",
    "    ax.plot_surface(x, y, c, cmap=cmap, linewidth=0, antialiased=False, alpha=0.5)\n",
    "\n",
    "    plt.xlabel(param_name + \"_1\")\n",
    "    plt.ylabel(param_name + \"_2\")\n",
    "    ax.set_zlabel(\"Cost (\" + param_name + \")\")\n",
    "\n",
    "    plt.show()\n",
    "    plt.title(\"Cost space for parametrization w.r.t. \" + param_name)\n",
    "    return ax\n",
    "\n"
   ]
  },
  {
   "cell_type": "code",
   "execution_count": 3,
   "metadata": {},
   "outputs": [],
   "source": [
    "# Function to plot the landscape of the cost function\n",
    "\n",
    "def plotCostSpace(cost_function, param_inteval=[0,1], param_name=\"π\", ax=None, cmap=cm.coolwarm):\n",
    "\n",
    "    if ax is None:\n",
    "        _, ax = plt.subplots(subplot_kw=dict(projection='3d'))\n",
    "\n",
    "    p_range = np.linspace(param_inteval[0], param_inteval[1], 100)\n",
    "    x, y = np.meshgrid(p_range, p_range)\n",
    "    p = np.stack([x, y])\n",
    "    c = cost_function(p)\n",
    "    ax.plot_surface(x, y, c, cmap=cmap, linewidth=0, antialiased=False, alpha=0.5)\n",
    "\n",
    "    plt.xlabel(param_name + \"_1\")\n",
    "    plt.ylabel(param_name + \"_2\")\n",
    "    ax.set_zlabel(\"Cost (\" + param_name + \")\")\n",
    "\n",
    "    plt.show()\n",
    "    plt.title(\"Cost space for parametrization w.r.t. \" + param_name)\n",
    "    return ax"
   ]
  },
  {
   "cell_type": "code",
   "execution_count": 4,
   "metadata": {},
   "outputs": [],
   "source": [
    "# Function to plot the landscape of the cost function\n",
    "\n",
    "def plot3DCostSpace(cost_function, param_inteval=[0,1], param_name=\"π\", cmap=cm.coolwarm):\n",
    "    \n",
    "    p_range = np.linspace(param_inteval[0], param_inteval[1], 100)\n",
    "    x, y = np.meshgrid(p_range, p_range)\n",
    "    z = np.ones(x.shape) * np.median(p_range)\n",
    "\n",
    "    c1 = cost_function(np.stack([x, y, z]))\n",
    "    c2 = cost_function(np.stack([x, z, y]))\n",
    "    c3 = cost_function(np.stack([z, x, y]))\n",
    "\n",
    "    A0_eq = p_range\n",
    "    A1_eq = np.log(1 - np.exp(A0_eq))\n",
    "    A2_eq = np.ones(A0_eq.shape) * np.median(p_range)\n",
    "    C_eq = cost_function(np.stack([A0_eq, A1_eq, A2_eq]))\n",
    "\n",
    "    i1_min = np.argmin(c1)\n",
    "    i2_min = np.argmin(c2)\n",
    "    i3_min = np.argmin(c3)\n",
    "\n",
    "    ieq_min = np.argmin(C_eq)\n",
    "\n",
    "    fig = plt.figure(figsize=plt.figaspect(0.5))\n",
    "   \n",
    "    ax = fig.add_subplot(1, 3, 1, projection='3d')\n",
    "    ax.plot_surface(x, y, c1, cmap=cmap, linewidth=0, antialiased=False, alpha=0.5)\n",
    "    ax.plot(A0_eq, A1_eq, zs=C_eq, zdir='z', color=\"black\", linewidth=3, label='policy submanifold')\n",
    "    ax.scatter(x.flatten()[i1_min], y.flatten()[i1_min], zs=c1.flatten()[i1_min], zdir='z', c=\"purple\", s=100, marker=\"*\", label='global extremum')\n",
    "    ax.scatter(A0_eq.flatten()[ieq_min], A1_eq.flatten()[ieq_min], zs=C_eq.flatten()[ieq_min], zdir='z', c=\"green\", s=100, marker=\"*\", label='policy submanifold global extremum')\n",
    "    plt.xlabel(\"A_0\")\n",
    "    plt.ylabel(\"A_1\")\n",
    "    ax.set_zlabel(\"LogC(A)\")\n",
    "    plt.title(\"log C(A | A2 = constant) \")\n",
    "    plt.legend()\n",
    "\n",
    "    ax = fig.add_subplot(1, 3, 2, projection='3d')\n",
    "    ax.plot_surface(x, y, c2, cmap=cmap, linewidth=0, antialiased=False, alpha=0.5)\n",
    "    ax.scatter(x.flatten()[i2_min], y.flatten()[i2_min], zs=c2.flatten()[i2_min], zdir='z', c=\"purple\", s=100, marker=\"*\", label='global extremum')\n",
    "    plt.xlabel(\"A_0\")\n",
    "    plt.ylabel(\"A_2\")\n",
    "    ax.set_zlabel(\"LogC(A)\")\n",
    "    plt.title(\"log C(A | A1 = constant) \")\n",
    "\n",
    "    ax = fig.add_subplot(1, 3, 3, projection='3d')\n",
    "    ax.plot_surface(x, y, c3, cmap=cmap, linewidth=0, antialiased=False, alpha=0.5)\n",
    "    ax.scatter(x.flatten()[i3_min], y.flatten()[i3_min], zs=c3.flatten()[i3_min], zdir='z', c=\"purple\", s=100, marker=\"*\", label='global extremum')\n",
    "    plt.xlabel(\"A_1\")\n",
    "    plt.ylabel(\"A_2\")\n",
    "    ax.set_zlabel(\"LogC(A)\")\n",
    "    plt.title(\"log C(A | A0 = constant) \")\n",
    "\n",
    "    plt.show()\n",
    "    return ax"
   ]
  },
  {
   "cell_type": "code",
   "execution_count": 5,
   "metadata": {},
   "outputs": [],
   "source": [
    "# Function to test convexity on two points\n",
    "\n",
    "def testConvexity(pa, pb, cost_func, param_name=\"π\", ax = None, color=\"black\"):\n",
    "\n",
    "    if ax is None:\n",
    "        ax = plt.gca()\n",
    "\n",
    "    pm = (pa + pb) / 2\n",
    "\n",
    "    Ca  = cost_func(pa)\n",
    "    Cb  = cost_func(pb)\n",
    "    Cm  = cost_func(pm)\n",
    "\n",
    "    ax.plot([pa[0], pb[0]], [pa[1], pb[1]],zs=[Ca ,Cb], color=\"black\")\n",
    "    ax.scatter([pa[0]], [pa[1]], s=100, zs=[Ca], color=\"black\")\n",
    "    ax.scatter([pb[0]], [pb[1]], s=100, zs=[Cb], color=\"black\")\n",
    "\n",
    "    ax.text(pa[0], pa[1], s=param_name+\"a\", z=Ca+0.1, color=color, fontsize=\"x-large\")\n",
    "    ax.text(pb[0], pb[1], s=param_name+\"b\", z=Cb+0.1, color=color, fontsize=\"x-large\")\n",
    "\n",
    "    ax.plot([pm[0], pm[0]], [pm[1], pm[1]],zs=[(Ca+Cb)/2 ,Cm], color=color, linestyle=\"--\")\n",
    "    ax.scatter([pm[0]], [pm[1]], s=100, zs=[Cm], color=color)\n",
    "    ax.text(pm[0], pm[1], s=param_name+\"m\", z=Cm+0.1, color=color, fontsize=\"x-large\")\n",
    "\n",
    "    convexity =  Cm <= (Ca+Cb)/2\n",
    "    if convexity:\n",
    "        txt = \"the cost space for parametrization π is not concave (it could be convex)\"\n",
    "    else:\n",
    "        txt = \"the cost space for parametrization π is not convex (it could be concave)\"\n",
    "    ax.text(.0, .0, 0.5, txt, ha='center')\n",
    "\n",
    "    return ax\n",
    "\n",
    "\n"
   ]
  },
  {
   "cell_type": "markdown",
   "metadata": {},
   "source": [
    "Let's consider the simple MDP shown in Agarwal et al.(2022), page 120.  \n",
    "For direct parametrization, the cost function is: Cπ = -Vπ = - π1 * π2 * r"
   ]
  },
  {
   "cell_type": "code",
   "execution_count": 6,
   "metadata": {},
   "outputs": [],
   "source": [
    "# Assuming r=1:\n",
    "Vπ_func = lambda π : np.prod(π, axis=0)\n",
    "Lπ_func = lambda π : np.log(Vπ_func(π))\n",
    "Cπ_func = lambda π : 1-Vπ_func(π)\n",
    "LCπ_func = lambda π : np.log(Cπ_func(π))"
   ]
  },
  {
   "cell_type": "markdown",
   "metadata": {},
   "source": [
    "Consider the two policies πa = <0, 0> and πb = <1, 1>, and the middle-point policy πm=<.5, .5>.\n",
    "If the cost space is convex, then C_πa + C_πb >= C_πm. \n",
    "In this case we have C_πa = 0, C_πb = 1, C_πm = -0.25  (no convexity)"
   ]
  },
  {
   "cell_type": "code",
   "execution_count": 7,
   "metadata": {},
   "outputs": [
    {
     "name": "stderr",
     "output_type": "stream",
     "text": [
      "/tmp/ipykernel_255727/2848582236.py:3: RuntimeWarning: divide by zero encountered in log\n",
      "  Lπ_func = lambda π : np.log(Vπ_func(π))\n"
     ]
    },
    {
     "data": {
      "text/plain": [
       "Text(0.5, 0.92, 'Log V(π)')"
      ]
     },
     "execution_count": 7,
     "metadata": {},
     "output_type": "execute_result"
    }
   ],
   "source": [
    "πa = np.array([0.1, 0.1])\n",
    "πb = np.array([0.9, 0.9])\n",
    "\n",
    "fig = plt.figure(figsize=plt.figaspect(0.5))\n",
    "ax = fig.add_subplot(1, 2, 1, projection='3d')\n",
    "\n",
    "plotCostSpace(Vπ_func, param_inteval=[0, 1], param_name=\"π\", ax=ax)\n",
    "testConvexity(πa, πb, Vπ_func)\n",
    "ax.set_zlabel(\"V(π)\")\n",
    "plt.title(\"V(π)\")\n",
    "\n",
    "ax = fig.add_subplot(1, 2, 2, projection='3d')\n",
    "plotCostSpace(Lπ_func, param_inteval=[0, 1], param_name=\"π\", ax=ax)\n",
    "testConvexity(πa, πb, Lπ_func)\n",
    "ax.set_zlabel(\"Log V(π)\")\n",
    "plt.title(\"Log V(π)\")"
   ]
  },
  {
   "cell_type": "code",
   "execution_count": 8,
   "metadata": {},
   "outputs": [
    {
     "name": "stderr",
     "output_type": "stream",
     "text": [
      "/home/fran-tr/anaconda3/envs/rl/lib/python3.11/site-packages/mpl_toolkits/mplot3d/proj3d.py:180: RuntimeWarning: invalid value encountered in divide\n",
      "  txs, tys, tzs = vecw[0]/w, vecw[1]/w, vecw[2]/w\n",
      "/tmp/ipykernel_255727/2848582236.py:5: RuntimeWarning: divide by zero encountered in log\n",
      "  LCπ_func = lambda π : np.log(Cπ_func(π))\n"
     ]
    },
    {
     "data": {
      "text/plain": [
       "Text(0.5, 0.92, 'Log C(π)')"
      ]
     },
     "execution_count": 8,
     "metadata": {},
     "output_type": "execute_result"
    }
   ],
   "source": [
    "πa = np.array([0.1, 0.1])\n",
    "πb = np.array([0.9, 0.9])\n",
    "\n",
    "fig = plt.figure(figsize=plt.figaspect(0.5))\n",
    "ax = fig.add_subplot(1, 2, 1, projection='3d')\n",
    "\n",
    "plotCostSpace(Cπ_func, param_inteval=[0, 1], param_name=\"π\", ax=ax)\n",
    "testConvexity(πa, πb, Cπ_func)\n",
    "ax.set_zlabel(\"C(π)\")\n",
    "plt.title(\"C(π)\")\n",
    "\n",
    "ax = fig.add_subplot(1, 2, 2, projection='3d')\n",
    "plotCostSpace(LCπ_func, param_inteval=[0, 1], param_name=\"π\", ax=ax)\n",
    "testConvexity(πa, πb, LCπ_func)\n",
    "ax.set_zlabel(\"Log C(π)\")\n",
    "plt.title(\"Log C(π)\")"
   ]
  },
  {
   "cell_type": "markdown",
   "metadata": {},
   "source": [
    "Now, let's consider the softmax parametrization π_ij = e^A_ij "
   ]
  },
  {
   "cell_type": "code",
   "execution_count": 9,
   "metadata": {},
   "outputs": [
    {
     "data": {
      "text/plain": [
       "Text(0.5, 0.92, 'C(A) with π = exp(A)')"
      ]
     },
     "execution_count": 9,
     "metadata": {},
     "output_type": "execute_result"
    }
   ],
   "source": [
    "CA_func = lambda A : -np.prod(np.exp(A), axis=0)  # for r=1\n",
    "\n",
    "Aa = np.array([-3, -2])\n",
    "Ab = np.array([-2, 0])\n",
    "\n",
    "plotCostSpace(CA_func, param_inteval=[-5, 0], param_name=\"A\")\n",
    "testConvexity(Aa, Ab, CA_func,param_name=\"A\")\n",
    "plt.title(\"C(A) with π = exp(A)\")"
   ]
  },
  {
   "cell_type": "markdown",
   "metadata": {},
   "source": [
    "Let's try again, but first let's modify the MDP so that all costs greater or equal to zero (i.e. no positive rewards).\n",
    "So the cost function now is CcA = (1 - π1 * π2) * c"
   ]
  },
  {
   "cell_type": "code",
   "execution_count": 10,
   "metadata": {},
   "outputs": [],
   "source": [
    "gpp_cost_func = lambda A : 1 - np.exp(A[1]) + np.exp(A[0]) * np.exp(A[1])\n",
    "gpp_log_cost_func = lambda A : np.log(gpp_cost_func(A))"
   ]
  },
  {
   "cell_type": "code",
   "execution_count": 11,
   "metadata": {},
   "outputs": [
    {
     "data": {
      "text/plain": [
       "Text(0.5, 0.92, 'C_gpp(A) with π = exp(A) and reparametrized action')"
      ]
     },
     "execution_count": 11,
     "metadata": {},
     "output_type": "execute_result"
    }
   ],
   "source": [
    "GPPa = np.array([-1, -0.])\n",
    "GPPb = np.array([-1, -2])\n",
    "\n",
    "plotCostSpace(gpp_cost_func, param_inteval=[-2, 0], param_name=\"A\")\n",
    "testConvexity(GPPa, GPPb, gpp_cost_func,param_name=\"A\")\n",
    "plt.title(\"C_gpp(A) with π = exp(A) and reparametrized action\")"
   ]
  },
  {
   "cell_type": "markdown",
   "metadata": {},
   "source": [
    "Another attempt with the log-cost function:"
   ]
  },
  {
   "cell_type": "code",
   "execution_count": 12,
   "metadata": {},
   "outputs": [
    {
     "data": {
      "text/plain": [
       "Text(0.5, 0.92, 'log C_gpp(A) with π = exp(A) and reparametrized action')"
      ]
     },
     "execution_count": 12,
     "metadata": {},
     "output_type": "execute_result"
    }
   ],
   "source": [
    "plotCostSpace(gpp_log_cost_func, param_inteval=[-2, 0], param_name=\"A\")\n",
    "testConvexity(GPPa, GPPb, gpp_log_cost_func, param_name=\"A\")\n",
    "plt.title(\"log C_gpp(A) with π = exp(A) and reparametrized action\")"
   ]
  },
  {
   "cell_type": "markdown",
   "metadata": {},
   "source": [
    "Now let's consider an unconstrained parametrization of π = exp(A) with no dependent actions.\n",
    "Then we have C = c * ( p_1u + p_1r * p_2u )  "
   ]
  },
  {
   "cell_type": "code",
   "execution_count": 13,
   "metadata": {},
   "outputs": [],
   "source": [
    "unconst_loss = lambda A : np.log(np.exp(A[0]) + np.exp(A[1])*np.exp(A[2]))"
   ]
  },
  {
   "cell_type": "code",
   "execution_count": 14,
   "metadata": {},
   "outputs": [
    {
     "name": "stderr",
     "output_type": "stream",
     "text": [
      "/tmp/ipykernel_255727/4191528404.py:14: RuntimeWarning: divide by zero encountered in log\n",
      "  A1_eq = np.log(1 - np.exp(A0_eq))\n"
     ]
    },
    {
     "data": {
      "text/plain": [
       "Text(0.5, 0.98, 'LC(A) = log(π_1u + π_1r * π_2u) = log(exp(A0) + exp(A1) * exp(A2))')"
      ]
     },
     "execution_count": 14,
     "metadata": {},
     "output_type": "execute_result"
    }
   ],
   "source": [
    "plot3DCostSpace(unconst_loss, param_inteval=[-5, 0], param_name=\"A\", cmap=cm.coolwarm)\n",
    "plt.suptitle(\"LC(A) = log(π_1u + π_1r * π_2u) = log(exp(A0) + exp(A1) * exp(A2))\")\n"
   ]
  },
  {
   "cell_type": "code",
   "execution_count": 15,
   "metadata": {},
   "outputs": [
    {
     "name": "stderr",
     "output_type": "stream",
     "text": [
      "/home/fran-tr/Workspace/gpp_core/utils/policy_functions.py:43: RuntimeWarning: divide by zero encountered in log\n",
      "  return np.log(agent.A / np.sum(agent.A, axis=1, keepdims=True))\n",
      "/tmp/ipykernel_255727/454409146.py:25: RuntimeWarning: divide by zero encountered in log\n",
      "  agent.theta[3, 3] = np.log(p2_left)\n",
      "/tmp/ipykernel_255727/454409146.py:27: MatplotlibDeprecationWarning: Auto-removal of overlapping axes is deprecated since 3.6 and will be removed two minor releases later; explicitly call ax.remove() as needed.\n",
      "  plt.subplot(1,2,1)\n",
      "/tmp/ipykernel_255727/454409146.py:31: MatplotlibDeprecationWarning: Auto-removal of overlapping axes is deprecated since 3.6 and will be removed two minor releases later; explicitly call ax.remove() as needed.\n",
      "  plt.subplot(1,2,2)\n",
      "100%|██████████| 100/100 [00:00<00:00, 1120.11it/s]\n",
      "100%|██████████| 100/100 [00:00<00:00, 1104.57it/s]\n",
      "100%|██████████| 100/100 [00:00<00:00, 1108.28it/s]\n",
      "100%|██████████| 100/100 [00:00<00:00, 813.09it/s]\n",
      "100%|██████████| 100/100 [00:00<00:00, 1093.13it/s]\n",
      "100%|██████████| 100/100 [00:00<00:00, 965.63it/s]\n",
      "100%|██████████| 100/100 [00:00<00:00, 1087.71it/s]\n",
      "100%|██████████| 100/100 [00:00<00:00, 990.28it/s]\n",
      "100%|██████████| 100/100 [00:00<00:00, 1106.96it/s]\n",
      "100%|██████████| 100/100 [00:00<00:00, 831.87it/s]\n",
      "100%|██████████| 100/100 [00:00<00:00, 1091.69it/s]\n",
      "100%|██████████| 100/100 [00:00<00:00, 1083.21it/s]\n",
      "100%|██████████| 100/100 [00:00<00:00, 1093.39it/s]\n",
      "100%|██████████| 100/100 [00:00<00:00, 1116.74it/s]\n",
      "100%|██████████| 100/100 [00:00<00:00, 960.84it/s]\n",
      "100%|██████████| 100/100 [00:00<00:00, 814.07it/s]\n",
      "100%|██████████| 100/100 [00:00<00:00, 1102.06it/s]\n",
      "100%|██████████| 100/100 [00:00<00:00, 1109.58it/s]\n",
      "100%|██████████| 100/100 [00:00<00:00, 1031.93it/s]\n",
      "100%|██████████| 100/100 [00:00<00:00, 1056.11it/s]\n",
      "100%|██████████| 100/100 [00:00<00:00, 1080.13it/s]\n",
      "100%|██████████| 100/100 [00:00<00:00, 818.87it/s]\n",
      "100%|██████████| 100/100 [00:00<00:00, 1063.91it/s]\n",
      "100%|██████████| 100/100 [00:00<00:00, 1104.91it/s]\n",
      "100%|██████████| 100/100 [00:00<00:00, 1122.51it/s]\n",
      "100%|██████████| 100/100 [00:00<00:00, 1091.62it/s]\n",
      "100%|██████████| 100/100 [00:00<00:00, 1078.53it/s]\n",
      "100%|██████████| 100/100 [00:00<00:00, 768.84it/s]\n",
      "100%|██████████| 100/100 [00:00<00:00, 1058.97it/s]\n",
      "100%|██████████| 100/100 [00:00<00:00, 1053.14it/s]\n",
      "100%|██████████| 100/100 [00:00<00:00, 1119.27it/s]\n",
      "100%|██████████| 100/100 [00:00<00:00, 1107.39it/s]\n",
      "100%|██████████| 100/100 [00:00<00:00, 1108.42it/s]\n",
      "100%|██████████| 100/100 [00:00<00:00, 809.97it/s]\n",
      "100%|██████████| 100/100 [00:00<00:00, 1097.65it/s]\n",
      "100%|██████████| 100/100 [00:00<00:00, 1097.51it/s]\n",
      "100%|██████████| 100/100 [00:00<00:00, 1113.37it/s]\n",
      "100%|██████████| 100/100 [00:00<00:00, 1011.37it/s]\n",
      "100%|██████████| 100/100 [00:00<00:00, 1057.03it/s]\n",
      "100%|██████████| 100/100 [00:00<00:00, 1095.17it/s]\n",
      "100%|██████████| 100/100 [00:00<00:00, 791.36it/s]\n",
      "100%|██████████| 100/100 [00:00<00:00, 1096.69it/s]\n",
      "100%|██████████| 100/100 [00:00<00:00, 1093.06it/s]\n",
      "100%|██████████| 100/100 [00:00<00:00, 1119.56it/s]\n",
      "100%|██████████| 100/100 [00:00<00:00, 1112.51it/s]\n",
      "100%|██████████| 100/100 [00:00<00:00, 1115.37it/s]\n",
      "100%|██████████| 100/100 [00:00<00:00, 795.16it/s]\n",
      "100%|██████████| 100/100 [00:00<00:00, 1036.42it/s]\n",
      "100%|██████████| 100/100 [00:00<00:00, 1069.51it/s]\n",
      "100%|██████████| 100/100 [00:00<00:00, 1076.96it/s]\n",
      "100%|██████████| 100/100 [00:00<00:00, 1120.45it/s]\n",
      "100%|██████████| 100/100 [00:00<00:00, 1100.17it/s]\n",
      "100%|██████████| 100/100 [00:00<00:00, 1067.55it/s]\n",
      "100%|██████████| 100/100 [00:00<00:00, 1077.84it/s]\n",
      "100%|██████████| 100/100 [00:00<00:00, 758.27it/s]\n",
      "100%|██████████| 100/100 [00:00<00:00, 981.93it/s]\n",
      "100%|██████████| 100/100 [00:00<00:00, 1052.25it/s]\n",
      "100%|██████████| 100/100 [00:00<00:00, 1110.04it/s]\n",
      "100%|██████████| 100/100 [00:00<00:00, 1096.47it/s]\n",
      "100%|██████████| 100/100 [00:00<00:00, 1109.82it/s]\n",
      "100%|██████████| 100/100 [00:00<00:00, 1066.66it/s]\n",
      "100%|██████████| 100/100 [00:00<00:00, 782.48it/s]\n",
      "100%|██████████| 100/100 [00:00<00:00, 1072.42it/s]\n",
      "100%|██████████| 100/100 [00:00<00:00, 1077.03it/s]\n",
      "100%|██████████| 100/100 [00:00<00:00, 1100.19it/s]\n",
      "100%|██████████| 100/100 [00:00<00:00, 1116.29it/s]\n",
      "100%|██████████| 100/100 [00:00<00:00, 1105.58it/s]\n",
      "100%|██████████| 100/100 [00:00<00:00, 1084.68it/s]\n",
      "100%|██████████| 100/100 [00:00<00:00, 1090.40it/s]\n",
      "100%|██████████| 100/100 [00:00<00:00, 763.47it/s]\n",
      "100%|██████████| 100/100 [00:00<00:00, 1109.28it/s]\n",
      "100%|██████████| 100/100 [00:00<00:00, 1074.42it/s]\n",
      "100%|██████████| 100/100 [00:00<00:00, 1113.19it/s]\n",
      "100%|██████████| 100/100 [00:00<00:00, 1042.41it/s]\n",
      "100%|██████████| 100/100 [00:00<00:00, 1094.35it/s]\n",
      "100%|██████████| 100/100 [00:00<00:00, 1089.77it/s]\n",
      "100%|██████████| 100/100 [00:00<00:00, 1114.52it/s]\n",
      "100%|██████████| 100/100 [00:00<00:00, 765.05it/s]\n",
      "100%|██████████| 100/100 [00:00<00:00, 1114.27it/s]\n",
      "100%|██████████| 100/100 [00:00<00:00, 1084.12it/s]\n",
      "100%|██████████| 100/100 [00:00<00:00, 1111.78it/s]\n",
      "100%|██████████| 100/100 [00:00<00:00, 1118.52it/s]\n",
      "100%|██████████| 100/100 [00:00<00:00, 1041.75it/s]\n",
      "100%|██████████| 100/100 [00:00<00:00, 1069.47it/s]\n",
      "100%|██████████| 100/100 [00:00<00:00, 1105.01it/s]\n",
      "100%|██████████| 100/100 [00:00<00:00, 726.78it/s]\n",
      "100%|██████████| 100/100 [00:00<00:00, 1104.21it/s]\n",
      "100%|██████████| 100/100 [00:00<00:00, 1102.98it/s]\n",
      "100%|██████████| 100/100 [00:00<00:00, 1117.32it/s]\n",
      "100%|██████████| 100/100 [00:00<00:00, 1074.21it/s]\n",
      "100%|██████████| 100/100 [00:00<00:00, 1127.25it/s]\n",
      "100%|██████████| 100/100 [00:00<00:00, 1094.52it/s]\n",
      "100%|██████████| 100/100 [00:00<00:00, 1116.53it/s]\n",
      "100%|██████████| 100/100 [00:00<00:00, 726.81it/s]\n",
      "100%|██████████| 100/100 [00:00<00:00, 1104.07it/s]\n",
      "100%|██████████| 100/100 [00:00<00:00, 1045.57it/s]\n",
      "100%|██████████| 100/100 [00:00<00:00, 1122.81it/s]\n",
      "100%|██████████| 100/100 [00:00<00:00, 1107.60it/s]\n",
      "100%|██████████| 100/100 [00:00<00:00, 1102.58it/s]\n",
      "100%|██████████| 100/100 [00:00<00:00, 1108.88it/s]\n"
     ]
    }
   ],
   "source": [
    "import numpy as np\n",
    "from matplotlib import pyplot as plt\n",
    "\n",
    "from agents.pgp.pgp_softmax import SoftMaxPGP\n",
    "from environments.gridworlds.gridworlds_classic import Agarwal\n",
    "from plots.gridworlds.gridworld_visualizer import GridWorldVisualizer\n",
    "\n",
    "maze = Agarwal()\n",
    "agent = SoftMaxPGP(maze)\n",
    "viz = GridWorldVisualizer(maze, agent)\n",
    "\n",
    "for i in range(100):\n",
    "    p1_up = np.random.random()\n",
    "    p1_right = 1 -p1_up\n",
    "\n",
    "    p2_up = np.random.random()\n",
    "    p2_right = 1 -p2_up\n",
    "    p2_left = 0\n",
    "\n",
    "    agent.reset()\n",
    "    agent.theta[1, 0] = np.log(p1_up)\n",
    "    agent.theta[1, 1] = np.log(p1_right)\n",
    "    agent.theta[3, 0] = np.log(p2_up)\n",
    "    agent.theta[3, 1] = np.log(p2_right)\n",
    "    agent.theta[3, 3] = np.log(p2_left)\n",
    "\n",
    "    plt.subplot(1,2,1)\n",
    "    viz.plot_policy(plot_axis=False)\n",
    "    plt.title(\"Initial Policy\")\n",
    "\n",
    "    plt.subplot(1,2,2)\n",
    "    agent.learn(n_steps=100, alpha=0.1)\n",
    "    viz.plot_policy(plot_axis=False)\n",
    "    plt.title(\"Final Policy\")\n",
    "    plt.show()\n",
    "\n"
   ]
  }
 ],
 "metadata": {
  "kernelspec": {
   "display_name": "rl",
   "language": "python",
   "name": "python3"
  },
  "language_info": {
   "codemirror_mode": {
    "name": "ipython",
    "version": 3
   },
   "file_extension": ".py",
   "mimetype": "text/x-python",
   "name": "python",
   "nbconvert_exporter": "python",
   "pygments_lexer": "ipython3",
   "version": "3.11.5"
  }
 },
 "nbformat": 4,
 "nbformat_minor": 2
}
