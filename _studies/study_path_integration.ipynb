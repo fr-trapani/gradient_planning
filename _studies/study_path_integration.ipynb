{
 "cells": [
  {
   "cell_type": "code",
   "execution_count": 1,
   "metadata": {},
   "outputs": [],
   "source": [
    "%load_ext autoreload\n",
    "%autoreload 2"
   ]
  },
  {
   "cell_type": "code",
   "execution_count": 2,
   "metadata": {},
   "outputs": [],
   "source": [
    "import numpy as np\n",
    "from matplotlib import pyplot as plt\n",
    "\n",
    "from agents.pgp.pgp_softmax import SoftMaxPGP\n",
    "from environments.gridworlds.gridworlds_classic import GridWorld\n",
    "from plots.gridworlds.gridworld_visualizer import GridWorldVisualizer\n",
    "from utils.policy_tools import *\n",
    "from utils.policy_functions import *"
   ]
  },
  {
   "cell_type": "code",
   "execution_count": 3,
   "metadata": {},
   "outputs": [],
   "source": [
    "# Agent parameters\n",
    "gamma = 0.95\n",
    "\n",
    "# World parameters\n",
    "n = 4\n",
    "init_locs = np.array([[1, 1]])\n",
    "\n",
    "# Training parameters\n",
    "alpha = 0.3\n",
    "n_steps = 100\n",
    "do_plots = False\n",
    "\n",
    "# Actions\n",
    "action_labels = np.array([\"↑\", \"→\", \"↓\", \"←\", \"X\"])\n",
    "\n",
    "# Objects\n",
    "world = GridWorld(n, n, init_locs)\n",
    "world.A[:] = True\n",
    "\n",
    "gpp = SoftMaxPGP(world, gamma)\n",
    "viz = GridWorldVisualizer(world, gpp)\n",
    "\n",
    "# policy softening\n",
    "epsilon = 0.1\n",
    "\n",
    "# initial position\n",
    "s = gpp.state\n",
    "sr = gpp.SR\n",
    "ss = np.array([s])\n",
    "\n",
    "# p(s0)\n",
    "p_s = p0_onehot(gpp, s)\n",
    "\n",
    "# action sequence\n",
    "aa = np.array([1, 2, 1, 2, 0, 2])"
   ]
  },
  {
   "cell_type": "code",
   "execution_count": 4,
   "metadata": {},
   "outputs": [
    {
     "name": "stdout",
     "output_type": "stream",
     "text": [
      "STEP #1: action sequence = →. Considering s0 = [0 0]\n",
      "\n"
     ]
    },
    {
     "name": "stderr",
     "output_type": "stream",
     "text": [
      "100%|██████████| 100/100 [00:00<00:00, 949.85it/s]\n",
      "  0%|          | 0/100 [00:00<?, ?it/s]"
     ]
    },
    {
     "name": "stderr",
     "output_type": "stream",
     "text": [
      "100%|██████████| 100/100 [00:00<00:00, 1113.82it/s]\n",
      "100%|██████████| 100/100 [00:00<00:00, 1120.23it/s]\n",
      "100%|██████████| 100/100 [00:00<00:00, 1111.24it/s]\n",
      "100%|██████████| 100/100 [00:00<00:00, 935.08it/s]\n",
      "100%|██████████| 100/100 [00:00<00:00, 1112.87it/s]\n",
      "100%|██████████| 100/100 [00:00<00:00, 1107.12it/s]\n",
      "100%|██████████| 100/100 [00:00<00:00, 1108.26it/s]\n",
      "100%|██████████| 100/100 [00:00<00:00, 945.30it/s]\n",
      "100%|██████████| 100/100 [00:00<00:00, 1113.85it/s]\n",
      "100%|██████████| 100/100 [00:00<00:00, 1112.42it/s]\n",
      "100%|██████████| 100/100 [00:00<00:00, 1103.53it/s]\n",
      "100%|██████████| 100/100 [00:00<00:00, 936.42it/s]\n",
      "100%|██████████| 100/100 [00:00<00:00, 1104.55it/s]\n",
      "100%|██████████| 100/100 [00:00<00:00, 1103.68it/s]\n",
      "100%|██████████| 100/100 [00:00<00:00, 926.91it/s]\n"
     ]
    },
    {
     "name": "stdout",
     "output_type": "stream",
     "text": [
      "STEP #1: action sequence = →. Considering s0 = [0 1]\n",
      "\n"
     ]
    },
    {
     "name": "stderr",
     "output_type": "stream",
     "text": [
      "100%|██████████| 100/100 [00:00<00:00, 1110.98it/s]\n",
      "100%|██████████| 100/100 [00:00<00:00, 1104.76it/s]\n",
      "100%|██████████| 100/100 [00:00<00:00, 1095.37it/s]\n",
      "100%|██████████| 100/100 [00:00<00:00, 934.00it/s]\n",
      "100%|██████████| 100/100 [00:00<00:00, 1099.67it/s]\n",
      "100%|██████████| 100/100 [00:00<00:00, 1096.64it/s]\n",
      "100%|██████████| 100/100 [00:00<00:00, 1095.71it/s]\n",
      "100%|██████████| 100/100 [00:00<00:00, 929.64it/s]\n",
      "100%|██████████| 100/100 [00:00<00:00, 1104.62it/s]\n",
      "100%|██████████| 100/100 [00:00<00:00, 1095.69it/s]\n",
      "100%|██████████| 100/100 [00:00<00:00, 1102.12it/s]\n",
      "100%|██████████| 100/100 [00:00<00:00, 934.80it/s]\n",
      "100%|██████████| 100/100 [00:00<00:00, 1107.04it/s]\n",
      "100%|██████████| 100/100 [00:00<00:00, 1094.13it/s]\n",
      "100%|██████████| 100/100 [00:00<00:00, 1094.22it/s]\n",
      "100%|██████████| 100/100 [00:00<00:00, 922.85it/s]\n"
     ]
    },
    {
     "name": "stdout",
     "output_type": "stream",
     "text": [
      "STEP #1: action sequence = →. Considering s0 = [0 2]\n",
      "\n"
     ]
    },
    {
     "name": "stderr",
     "output_type": "stream",
     "text": [
      "100%|██████████| 100/100 [00:00<00:00, 1105.20it/s]\n",
      "100%|██████████| 100/100 [00:00<00:00, 1099.55it/s]\n",
      "100%|██████████| 100/100 [00:00<00:00, 1094.69it/s]\n",
      "100%|██████████| 100/100 [00:00<00:00, 935.10it/s]\n",
      "100%|██████████| 100/100 [00:00<00:00, 1093.91it/s]\n",
      "100%|██████████| 100/100 [00:00<00:00, 1097.09it/s]\n",
      "100%|██████████| 100/100 [00:00<00:00, 1101.15it/s]\n",
      "100%|██████████| 100/100 [00:00<00:00, 931.88it/s]\n",
      "100%|██████████| 100/100 [00:00<00:00, 1105.11it/s]\n",
      "100%|██████████| 100/100 [00:00<00:00, 1082.89it/s]\n",
      "100%|██████████| 100/100 [00:00<00:00, 919.56it/s]\n",
      "100%|██████████| 100/100 [00:00<00:00, 1090.31it/s]\n",
      "100%|██████████| 100/100 [00:00<00:00, 1101.21it/s]\n",
      "100%|██████████| 100/100 [00:00<00:00, 1094.98it/s]\n",
      "100%|██████████| 100/100 [00:00<00:00, 935.01it/s]\n",
      "100%|██████████| 100/100 [00:00<00:00, 1096.47it/s]\n"
     ]
    },
    {
     "name": "stdout",
     "output_type": "stream",
     "text": [
      "STEP #1: action sequence = →. Considering s0 = [0 3]\n",
      "\n"
     ]
    },
    {
     "name": "stderr",
     "output_type": "stream",
     "text": [
      "100%|██████████| 100/100 [00:00<00:00, 1100.71it/s]\n",
      "100%|██████████| 100/100 [00:00<00:00, 1096.18it/s]\n",
      "100%|██████████| 100/100 [00:00<00:00, 931.16it/s]\n",
      "100%|██████████| 100/100 [00:00<00:00, 1088.82it/s]\n",
      "100%|██████████| 100/100 [00:00<00:00, 1096.22it/s]\n",
      "100%|██████████| 100/100 [00:00<00:00, 1084.31it/s]\n",
      "100%|██████████| 100/100 [00:00<00:00, 929.76it/s]\n",
      "100%|██████████| 100/100 [00:00<00:00, 1088.77it/s]\n",
      "100%|██████████| 100/100 [00:00<00:00, 1092.83it/s]\n",
      "100%|██████████| 100/100 [00:00<00:00, 1096.19it/s]\n",
      "100%|██████████| 100/100 [00:00<00:00, 922.82it/s]\n",
      "100%|██████████| 100/100 [00:00<00:00, 1089.57it/s]\n",
      "100%|██████████| 100/100 [00:00<00:00, 1092.80it/s]\n",
      "100%|██████████| 100/100 [00:00<00:00, 1093.65it/s]\n",
      "100%|██████████| 100/100 [00:00<00:00, 934.96it/s]\n",
      "100%|██████████| 100/100 [00:00<00:00, 1098.04it/s]\n"
     ]
    },
    {
     "name": "stdout",
     "output_type": "stream",
     "text": [
      "STEP #1: action sequence = →. Considering s0 = [1 0]\n",
      "\n"
     ]
    },
    {
     "name": "stderr",
     "output_type": "stream",
     "text": [
      "100%|██████████| 100/100 [00:00<00:00, 1091.12it/s]\n",
      "100%|██████████| 100/100 [00:00<00:00, 1098.96it/s]\n",
      "100%|██████████| 100/100 [00:00<00:00, 929.95it/s]\n",
      "100%|██████████| 100/100 [00:00<00:00, 1092.47it/s]\n",
      "100%|██████████| 100/100 [00:00<00:00, 1090.89it/s]\n",
      "100%|██████████| 100/100 [00:00<00:00, 923.23it/s]\n",
      "100%|██████████| 100/100 [00:00<00:00, 1098.34it/s]\n",
      "100%|██████████| 100/100 [00:00<00:00, 1090.97it/s]\n",
      "100%|██████████| 100/100 [00:00<00:00, 1098.43it/s]\n",
      "100%|██████████| 100/100 [00:00<00:00, 941.69it/s]\n",
      "100%|██████████| 100/100 [00:00<00:00, 1099.27it/s]\n",
      "100%|██████████| 100/100 [00:00<00:00, 1101.51it/s]\n",
      "100%|██████████| 100/100 [00:00<00:00, 1099.27it/s]\n",
      "100%|██████████| 100/100 [00:00<00:00, 927.16it/s]\n",
      "100%|██████████| 100/100 [00:00<00:00, 1101.33it/s]\n",
      "100%|██████████| 100/100 [00:00<00:00, 1100.34it/s]\n"
     ]
    },
    {
     "name": "stdout",
     "output_type": "stream",
     "text": [
      "STEP #1: action sequence = →. Considering s0 = [1 1]\n",
      "\n"
     ]
    },
    {
     "name": "stderr",
     "output_type": "stream",
     "text": [
      "100%|██████████| 100/100 [00:00<00:00, 1094.99it/s]\n",
      "100%|██████████| 100/100 [00:00<00:00, 927.49it/s]\n",
      "100%|██████████| 100/100 [00:00<00:00, 1100.10it/s]\n",
      "100%|██████████| 100/100 [00:00<00:00, 1099.51it/s]\n",
      "100%|██████████| 100/100 [00:00<00:00, 1098.06it/s]\n",
      "100%|██████████| 100/100 [00:00<00:00, 931.43it/s]\n",
      "100%|██████████| 100/100 [00:00<00:00, 1102.59it/s]\n",
      "100%|██████████| 100/100 [00:00<00:00, 1108.88it/s]\n",
      "100%|██████████| 100/100 [00:00<00:00, 1101.04it/s]\n",
      "100%|██████████| 100/100 [00:00<00:00, 879.34it/s]\n",
      "100%|██████████| 100/100 [00:00<00:00, 1089.43it/s]\n",
      "100%|██████████| 100/100 [00:00<00:00, 1092.29it/s]\n",
      "100%|██████████| 100/100 [00:00<00:00, 927.81it/s]\n",
      "100%|██████████| 100/100 [00:00<00:00, 1095.85it/s]\n",
      "100%|██████████| 100/100 [00:00<00:00, 1091.84it/s]\n",
      "100%|██████████| 100/100 [00:00<00:00, 1089.59it/s]\n"
     ]
    },
    {
     "name": "stdout",
     "output_type": "stream",
     "text": [
      "STEP #1: action sequence = →. Considering s0 = [1 2]\n",
      "\n"
     ]
    },
    {
     "name": "stderr",
     "output_type": "stream",
     "text": [
      "100%|██████████| 100/100 [00:00<00:00, 931.80it/s]\n",
      "100%|██████████| 100/100 [00:00<00:00, 1094.74it/s]\n",
      "100%|██████████| 100/100 [00:00<00:00, 1101.90it/s]\n",
      "100%|██████████| 100/100 [00:00<00:00, 1097.64it/s]\n",
      "100%|██████████| 100/100 [00:00<00:00, 935.05it/s]\n",
      "100%|██████████| 100/100 [00:00<00:00, 1096.22it/s]\n",
      "100%|██████████| 100/100 [00:00<00:00, 1099.55it/s]\n",
      "100%|██████████| 100/100 [00:00<00:00, 1096.69it/s]\n",
      "100%|██████████| 100/100 [00:00<00:00, 928.99it/s]\n",
      "100%|██████████| 100/100 [00:00<00:00, 1103.34it/s]\n",
      "100%|██████████| 100/100 [00:00<00:00, 1104.99it/s]\n",
      "100%|██████████| 100/100 [00:00<00:00, 1093.46it/s]\n",
      "100%|██████████| 100/100 [00:00<00:00, 933.15it/s]\n",
      "100%|██████████| 100/100 [00:00<00:00, 1098.15it/s]\n",
      "100%|██████████| 100/100 [00:00<00:00, 1102.64it/s]\n",
      "100%|██████████| 100/100 [00:00<00:00, 1098.70it/s]\n"
     ]
    },
    {
     "name": "stdout",
     "output_type": "stream",
     "text": [
      "STEP #1: action sequence = →. Considering s0 = [1 3]\n",
      "\n"
     ]
    },
    {
     "name": "stderr",
     "output_type": "stream",
     "text": [
      "100%|██████████| 100/100 [00:00<00:00, 902.53it/s]\n",
      "100%|██████████| 100/100 [00:00<00:00, 1091.45it/s]\n",
      "100%|██████████| 100/100 [00:00<00:00, 1096.30it/s]\n",
      "100%|██████████| 100/100 [00:00<00:00, 1099.42it/s]\n",
      "100%|██████████| 100/100 [00:00<00:00, 925.52it/s]\n",
      "100%|██████████| 100/100 [00:00<00:00, 1096.01it/s]\n",
      "100%|██████████| 100/100 [00:00<00:00, 1102.34it/s]\n",
      " 11%|█         | 11/100 [00:00<00:00, 1032.92it/s]\n"
     ]
    },
    {
     "ename": "KeyboardInterrupt",
     "evalue": "",
     "output_type": "error",
     "traceback": [
      "\u001b[0;31m---------------------------------------------------------------------------\u001b[0m",
      "\u001b[0;31mKeyboardInterrupt\u001b[0m                         Traceback (most recent call last)",
      "\u001b[1;32m/home/fran-tr/Workspace/gpp_core/study_path_integration.ipynb Cell 4\u001b[0m line \u001b[0;36m3\n\u001b[1;32m     <a href='vscode-notebook-cell:/home/fran-tr/Workspace/gpp_core/study_path_integration.ipynb#W3sZmlsZQ%3D%3D?line=35'>36</a>\u001b[0m     gpp\u001b[39m.\u001b[39mstate \u001b[39m=\u001b[39m sP\n\u001b[1;32m     <a href='vscode-notebook-cell:/home/fran-tr/Workspace/gpp_core/study_path_integration.ipynb#W3sZmlsZQ%3D%3D?line=36'>37</a>\u001b[0m     gpp\u001b[39m.\u001b[39mp0_func \u001b[39m=\u001b[39m (\u001b[39mlambda\u001b[39;00m agent, ss, ps, : prior\u001b[39m/\u001b[39mnp\u001b[39m.\u001b[39msum(prior))\n\u001b[0;32m---> <a href='vscode-notebook-cell:/home/fran-tr/Workspace/gpp_core/study_path_integration.ipynb#W3sZmlsZQ%3D%3D?line=38'>39</a>\u001b[0m     gpp\u001b[39m.\u001b[39mlearn(n_steps\u001b[39m=\u001b[39mn_steps, alpha\u001b[39m=\u001b[39malpha)\n\u001b[1;32m     <a href='vscode-notebook-cell:/home/fran-tr/Workspace/gpp_core/study_path_integration.ipynb#W3sZmlsZQ%3D%3D?line=39'>40</a>\u001b[0m     likelihood[sL] \u001b[39m=\u001b[39m gpp\u001b[39m.\u001b[39mpolicy(sP)[a]\n\u001b[1;32m     <a href='vscode-notebook-cell:/home/fran-tr/Workspace/gpp_core/study_path_integration.ipynb#W3sZmlsZQ%3D%3D?line=41'>42</a>\u001b[0m \u001b[39m# Compute posterior\u001b[39;00m\n",
      "File \u001b[0;32m~/Workspace/gpp_core/agents/pgp/pgp.py:212\u001b[0m, in \u001b[0;36mPGP.learn\u001b[0;34m(self, n_steps, alpha, alpha_func, alpha_kwargs, gradient_kwargs, normalize_grad, update_kwargs, min_theta, **kwargs)\u001b[0m\n\u001b[1;32m    209\u001b[0m     alpha \u001b[39m=\u001b[39m alpha_func(\u001b[39mself\u001b[39m, \u001b[39m*\u001b[39m\u001b[39m*\u001b[39malpha_kwargs)\n\u001b[1;32m    211\u001b[0m \u001b[39m# compute gradient\u001b[39;00m\n\u001b[0;32m--> 212\u001b[0m g \u001b[39m=\u001b[39m \u001b[39mself\u001b[39m\u001b[39m.\u001b[39mgradient(\u001b[39m*\u001b[39m\u001b[39m*\u001b[39mgradient_kwargs) \n\u001b[1;32m    213\u001b[0m g_norm \u001b[39m=\u001b[39m np\u001b[39m.\u001b[39mlinalg\u001b[39m.\u001b[39mnorm(g)\n\u001b[1;32m    215\u001b[0m \u001b[39mif\u001b[39;00m normalize_grad \u001b[39mand\u001b[39;00m (g_norm \u001b[39m>\u001b[39m \u001b[39m0\u001b[39m):\n",
      "File \u001b[0;32m~/Workspace/gpp_core/agents/pgp/pgp_softmax.py:102\u001b[0m, in \u001b[0;36mSoftMaxPGP.gradient\u001b[0;34m(self, natural, **kwargs)\u001b[0m\n\u001b[1;32m     98\u001b[0m \u001b[39m\u001b[39m\u001b[39m'''\u001b[39;00m\n\u001b[1;32m     99\u001b[0m \u001b[39mComputes the gradient of the value function V(s) with respect to the policy parameters theta.\u001b[39;00m\n\u001b[1;32m    100\u001b[0m \u001b[39m'''\u001b[39;00m\n\u001b[1;32m    101\u001b[0m π \u001b[39m=\u001b[39m \u001b[39mself\u001b[39m\u001b[39m.\u001b[39mpolicy_vec()\n\u001b[0;32m--> 102\u001b[0m g_π \u001b[39m=\u001b[39m \u001b[39mself\u001b[39m\u001b[39m.\u001b[39mpolicy_gradient(\u001b[39m*\u001b[39m\u001b[39m*\u001b[39mkwargs)\n\u001b[1;32m    104\u001b[0m \u001b[39m# ∇_θ_kl E[V(o)]    =  Σ_j ∇_π_kj E[V(o)] ⋅ ∇_θ_kl π_kj\u001b[39;00m\n\u001b[1;32m    105\u001b[0m \u001b[39m#                   =  Σ_j g_j ⋅ π_kj ⋅ ( δ_jl - π_kl )\u001b[39;00m\n\u001b[1;32m    106\u001b[0m \u001b[39m#                   =  π_kl ⋅ ( g_l - Σ_j π_kj ⋅ g_j )\u001b[39;00m\n\u001b[1;32m    107\u001b[0m g_θ \u001b[39m=\u001b[39m (g_π \u001b[39m-\u001b[39m np\u001b[39m.\u001b[39msum(g_π \u001b[39m*\u001b[39m π, axis\u001b[39m=\u001b[39m\u001b[39m1\u001b[39m,keepdims\u001b[39m=\u001b[39m\u001b[39mTrue\u001b[39;00m)) \u001b[39m*\u001b[39m π\n",
      "File \u001b[0;32m~/Workspace/gpp_core/agents/pgp/pgp_softmax.py:74\u001b[0m, in \u001b[0;36mSoftMaxPGP.policy_gradient\u001b[0;34m(self, λ, **kwargs)\u001b[0m\n\u001b[1;32m     70\u001b[0m R \u001b[39m=\u001b[39m np\u001b[39m.\u001b[39msum(\u001b[39mself\u001b[39m\u001b[39m.\u001b[39menv\u001b[39m.\u001b[39mR \u001b[39m*\u001b[39m \u001b[39mself\u001b[39m\u001b[39m.\u001b[39menv\u001b[39m.\u001b[39mP, axis \u001b[39m=\u001b[39m \u001b[39m2\u001b[39m)\n\u001b[1;32m     72\u001b[0m \u001b[39m# dEV1 = Σ_osay  p_o ⋅ γ ⋅ D_oi ⋅ P_ijy ⋅ D_ys ⋅ π_sa ⋅ R_sa\u001b[39;00m\n\u001b[1;32m     73\u001b[0m \u001b[39m# dEV2 = Σ_o p_o ⋅ D_oi ⋅ R_ij\u001b[39;00m\n\u001b[0;32m---> 74\u001b[0m dEV1 \u001b[39m=\u001b[39m γ \u001b[39m*\u001b[39m np\u001b[39m.\u001b[39meinsum(\u001b[39m'\u001b[39m\u001b[39mo, oi, ijy, ys, sa, sa -> ij\u001b[39m\u001b[39m'\u001b[39m, p0, D, P, D, π, R, optimize\u001b[39m=\u001b[39m\u001b[39m'\u001b[39m\u001b[39moptimal\u001b[39m\u001b[39m'\u001b[39m)\n\u001b[1;32m     75\u001b[0m dEV2 \u001b[39m=\u001b[39m np\u001b[39m.\u001b[39meinsum(\u001b[39m'\u001b[39m\u001b[39mo, oi, ij -> ij\u001b[39m\u001b[39m'\u001b[39m, p0, D, R, optimize\u001b[39m=\u001b[39m\u001b[39m'\u001b[39m\u001b[39moptimal\u001b[39m\u001b[39m'\u001b[39m)\n\u001b[1;32m     76\u001b[0m dEV \u001b[39m=\u001b[39m dEV1 \u001b[39m+\u001b[39m dEV2    \n",
      "File \u001b[0;32m<__array_function__ internals>:200\u001b[0m, in \u001b[0;36meinsum\u001b[0;34m(*args, **kwargs)\u001b[0m\n",
      "File \u001b[0;32m~/anaconda3/envs/rl/lib/python3.11/site-packages/numpy/core/einsumfunc.py:1383\u001b[0m, in \u001b[0;36meinsum\u001b[0;34m(out, optimize, *operands, **kwargs)\u001b[0m\n\u001b[1;32m   1379\u001b[0m     \u001b[39mraise\u001b[39;00m \u001b[39mTypeError\u001b[39;00m(\u001b[39m\"\u001b[39m\u001b[39mDid not understand the following kwargs: \u001b[39m\u001b[39m%s\u001b[39;00m\u001b[39m\"\u001b[39m\n\u001b[1;32m   1380\u001b[0m                     \u001b[39m%\u001b[39m unknown_kwargs)\n\u001b[1;32m   1382\u001b[0m \u001b[39m# Build the contraction list and operand\u001b[39;00m\n\u001b[0;32m-> 1383\u001b[0m operands, contraction_list \u001b[39m=\u001b[39m einsum_path(\u001b[39m*\u001b[39moperands, optimize\u001b[39m=\u001b[39moptimize,\n\u001b[1;32m   1384\u001b[0m                                          einsum_call\u001b[39m=\u001b[39m\u001b[39mTrue\u001b[39;00m)\n\u001b[1;32m   1386\u001b[0m \u001b[39m# Handle order kwarg for output array, c_einsum allows mixed case\u001b[39;00m\n\u001b[1;32m   1387\u001b[0m output_order \u001b[39m=\u001b[39m kwargs\u001b[39m.\u001b[39mpop(\u001b[39m'\u001b[39m\u001b[39morder\u001b[39m\u001b[39m'\u001b[39m, \u001b[39m'\u001b[39m\u001b[39mK\u001b[39m\u001b[39m'\u001b[39m)\n",
      "File \u001b[0;32m<__array_function__ internals>:200\u001b[0m, in \u001b[0;36meinsum_path\u001b[0;34m(*args, **kwargs)\u001b[0m\n",
      "File \u001b[0;32m~/anaconda3/envs/rl/lib/python3.11/site-packages/numpy/core/einsumfunc.py:914\u001b[0m, in \u001b[0;36meinsum_path\u001b[0;34m(optimize, einsum_call, *operands)\u001b[0m\n\u001b[1;32m    912\u001b[0m     path \u001b[39m=\u001b[39m _greedy_path(input_sets, output_set, dimension_dict, memory_arg)\n\u001b[1;32m    913\u001b[0m \u001b[39melif\u001b[39;00m path_type \u001b[39m==\u001b[39m \u001b[39m\"\u001b[39m\u001b[39moptimal\u001b[39m\u001b[39m\"\u001b[39m:\n\u001b[0;32m--> 914\u001b[0m     path \u001b[39m=\u001b[39m _optimal_path(input_sets, output_set, dimension_dict, memory_arg)\n\u001b[1;32m    915\u001b[0m \u001b[39melse\u001b[39;00m:\n\u001b[1;32m    916\u001b[0m     \u001b[39mraise\u001b[39;00m \u001b[39mKeyError\u001b[39;00m(\u001b[39m\"\u001b[39m\u001b[39mPath name \u001b[39m\u001b[39m%s\u001b[39;00m\u001b[39m not found\u001b[39m\u001b[39m\"\u001b[39m, path_type)\n",
      "File \u001b[0;32m~/anaconda3/envs/rl/lib/python3.11/site-packages/numpy/core/einsumfunc.py:195\u001b[0m, in \u001b[0;36m_optimal_path\u001b[0;34m(input_sets, output_set, idx_dict, memory_limit)\u001b[0m\n\u001b[1;32m    192\u001b[0m     \u001b[39mcontinue\u001b[39;00m\n\u001b[1;32m    194\u001b[0m \u001b[39m# Build (total_cost, positions, indices_remaining)\u001b[39;00m\n\u001b[0;32m--> 195\u001b[0m total_cost \u001b[39m=\u001b[39m  cost \u001b[39m+\u001b[39m _flop_count(idx_contract, idx_removed, \u001b[39mlen\u001b[39m(con), idx_dict)\n\u001b[1;32m    196\u001b[0m new_pos \u001b[39m=\u001b[39m positions \u001b[39m+\u001b[39m [con]\n\u001b[1;32m    197\u001b[0m iter_results\u001b[39m.\u001b[39mappend((total_cost, new_pos, new_input_sets))\n",
      "File \u001b[0;32m~/anaconda3/envs/rl/lib/python3.11/site-packages/numpy/core/einsumfunc.py:49\u001b[0m, in \u001b[0;36m_flop_count\u001b[0;34m(idx_contraction, inner, num_terms, size_dictionary)\u001b[0m\n\u001b[1;32m     18\u001b[0m \u001b[39mdef\u001b[39;00m \u001b[39m_flop_count\u001b[39m(idx_contraction, inner, num_terms, size_dictionary):\n\u001b[1;32m     19\u001b[0m \u001b[39m    \u001b[39m\u001b[39m\"\"\"\u001b[39;00m\n\u001b[1;32m     20\u001b[0m \u001b[39m    Computes the number of FLOPS in the contraction.\u001b[39;00m\n\u001b[1;32m     21\u001b[0m \n\u001b[0;32m   (...)\u001b[0m\n\u001b[1;32m     46\u001b[0m \n\u001b[1;32m     47\u001b[0m \u001b[39m    \"\"\"\u001b[39;00m\n\u001b[0;32m---> 49\u001b[0m     overall_size \u001b[39m=\u001b[39m _compute_size_by_dict(idx_contraction, size_dictionary)\n\u001b[1;32m     50\u001b[0m     op_factor \u001b[39m=\u001b[39m \u001b[39mmax\u001b[39m(\u001b[39m1\u001b[39m, num_terms \u001b[39m-\u001b[39m \u001b[39m1\u001b[39m)\n\u001b[1;32m     51\u001b[0m     \u001b[39mif\u001b[39;00m inner:\n",
      "File \u001b[0;32m~/anaconda3/envs/rl/lib/python3.11/site-packages/numpy/core/einsumfunc.py:56\u001b[0m, in \u001b[0;36m_compute_size_by_dict\u001b[0;34m(indices, idx_dict)\u001b[0m\n\u001b[1;32m     52\u001b[0m         op_factor \u001b[39m+\u001b[39m\u001b[39m=\u001b[39m \u001b[39m1\u001b[39m\n\u001b[1;32m     54\u001b[0m     \u001b[39mreturn\u001b[39;00m overall_size \u001b[39m*\u001b[39m op_factor\n\u001b[0;32m---> 56\u001b[0m \u001b[39mdef\u001b[39;00m \u001b[39m_compute_size_by_dict\u001b[39m(indices, idx_dict):\n\u001b[1;32m     57\u001b[0m \u001b[39m    \u001b[39m\u001b[39m\"\"\"\u001b[39;00m\n\u001b[1;32m     58\u001b[0m \u001b[39m    Computes the product of the elements in indices based on the dictionary\u001b[39;00m\n\u001b[1;32m     59\u001b[0m \u001b[39m    idx_dict.\u001b[39;00m\n\u001b[0;32m   (...)\u001b[0m\n\u001b[1;32m     77\u001b[0m \n\u001b[1;32m     78\u001b[0m \u001b[39m    \"\"\"\u001b[39;00m\n\u001b[1;32m     79\u001b[0m     ret \u001b[39m=\u001b[39m \u001b[39m1\u001b[39m\n",
      "\u001b[0;31mKeyboardInterrupt\u001b[0m: "
     ]
    }
   ],
   "source": [
    "# P(s2 | a) = Σ_s1 P(s2, s1 | a)\n",
    "#           = Σ_s1 P(s1 | a) · P(s2 | a, s1)\n",
    "#           = Σ_s1 P(s1 | a) · P(s2 | a, s1)\n",
    "#           = Σ_s1 P(s1 | a) · P(a | s2, s1) · P(s2 | s1) / p(a | s1)\n",
    "\n",
    "for i, a in enumerate(aa):\n",
    "\n",
    "    # Do action\n",
    "    s, _, _ = world.step(s, a)\n",
    "    ss = np.append(ss, s)\n",
    "\n",
    "    aa_sequence = \"\".join(action_labels[aa[:i+1]])\n",
    "    a_current = action_labels[aa[i]]\n",
    "\n",
    "    posterior = np.ndarray([world.n_state, world.n_state])\n",
    "    p_s2 = np.zeros([world.n_state])\n",
    "    \n",
    "    for sP in range(world.n_state):\n",
    "\n",
    "        # Compute Prior\n",
    "        prior = np.exp(sr[sP, :]) / np.sum(np.exp(sr[sP, :]))\n",
    "\n",
    "        # Compute likelihood\n",
    "        print(\"STEP #{}: action sequence = {}. Considering s{} = {}\".format(i+1, aa_sequence, i, world.decode(sP)))\n",
    "        print(\"\")\n",
    "\n",
    "        likelihood = np.ndarray([world.n_state])\n",
    "\n",
    "        for sL in range(world.n_state):\n",
    "\n",
    "            world.reset_rewards()\n",
    "            world.add_rewards( np.array([100]), np.array([sL]))\n",
    "            world.A[:] = True\n",
    "\n",
    "            gpp.reset()\n",
    "            gpp.state = sP\n",
    "            gpp.p0_func = (lambda agent, ss, ps, : prior/np.sum(prior))\n",
    "\n",
    "            gpp.learn(n_steps=n_steps, alpha=alpha)\n",
    "            likelihood[sL] = gpp.policy(sP)[a]\n",
    "                \n",
    "        # Compute posterior\n",
    "        posterior[sP, :] = prior * likelihood\n",
    "        posterior[sP, :] = posterior[sP, :] / np.sum(posterior[sP, :])\n",
    "        p_s2 = p_s2 + posterior[sP, :] * p_s[sP]\n",
    "\n",
    "\n",
    "        # Plots\n",
    "        traj = np.array([sP])\n",
    "\n",
    "        if do_plots:\n",
    "\n",
    "            plt.subplot(231)\n",
    "            viz.plot_grid(prior, plot_axis=False)\n",
    "            viz.plot_trajectory(ss=traj, plot_maze=False, plot_grid=False, plot_axis=False, jitter=0)\n",
    "            plt.title(\"p(s{} | s{} = {})\".format(i+1, i, world.decode(sP)))\n",
    "\n",
    "            plt.subplot(232)\n",
    "            viz.plot_grid(likelihood, plot_axis=False)\n",
    "            viz.plot_trajectory(ss=traj, plot_maze=False, plot_grid=False, plot_axis=False, jitter=0)\n",
    "            plt.title(\"p(a = {} | s{}, s{} = {})\".format(a_current, i+1, i, world.decode(sP)))\n",
    "\n",
    "\n",
    "            plt.subplot(233)\n",
    "            viz.plot_grid(posterior[sP, :], plot_axis=False)\n",
    "            viz.plot_trajectory(ss=traj, plot_maze=False, plot_grid=False, plot_axis=False, jitter=0)\n",
    "            plt.title(\"p(s{} | a = {}, s{} = {})\".format(i+1, a_current, i, world.decode(sP)))\n",
    "\n",
    "            plt.subplot(234)\n",
    "            viz.plot_grid(p_s, plot_axis=False)\n",
    "            viz.plot_trajectory(ss=traj, plot_maze=False, plot_grid=False, plot_axis=False, jitter=0)\n",
    "            plt.title(\"p(s{} | a = {})\".format(i, aa_sequence))\n",
    "\n",
    "            plt.subplot(235)\n",
    "            viz.plot_grid(p_s2, plot_axis=False)\n",
    "            plt.title(\"partial p(s{} | a={})\".format(i+1, a_current))\n",
    "\n",
    "            plt.tight_layout()\n",
    "            plt.show()\n",
    "    \n",
    "    p_s = p_s2\n",
    "\n",
    "\n",
    "    viz.plot_grid(p_s2, plot_axis=False)\n",
    "    viz.plot_trajectory(ss=ss, plot_maze=False, plot_grid=False, plot_axis=False)\n",
    "    plt.title(\"p(s{} | a={})\".format(i+1, a_current))\n",
    "\n",
    "    plt.tight_layout()\n",
    "    plt.show()\n",
    "            \n",
    "\n",
    "\n",
    "    \n",
    "\n",
    "\n",
    "\n"
   ]
  }
 ],
 "metadata": {
  "kernelspec": {
   "display_name": "rl",
   "language": "python",
   "name": "python3"
  },
  "language_info": {
   "codemirror_mode": {
    "name": "ipython",
    "version": 3
   },
   "file_extension": ".py",
   "mimetype": "text/x-python",
   "name": "python",
   "nbconvert_exporter": "python",
   "pygments_lexer": "ipython3",
   "version": "3.11.5"
  }
 },
 "nbformat": 4,
 "nbformat_minor": 2
}
